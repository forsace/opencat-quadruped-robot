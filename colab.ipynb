{
  "cells": [
    {
      "cell_type": "markdown",
      "metadata": {
        "id": "ncjQuwOgT4W3"
      },
      "source": [
        "# 🗣️ Speech-AI-Forge Colab\n",
        "\n",
        "👋本脚本基于 [Speech-AI-Forge](https://github.com/lenML/Speech-AI-Forge) 构建。如果此项目对你有帮助，欢迎到 github 为我们 star 支持！也欢迎提交 pr issues~\n",
        "\n",
        "## 运行指南\n",
        "\n",
        "1. 在菜单栏中选择 **代码执行程序**。\n",
        "2. 点击 **全部运行**。\n",
        "\n",
        "运行完成后，请在下方日志中找到如下信息：\n",
        "\n",
        "```\n",
        "Running on public URL: https://**.gradio.live\n",
        "```\n",
        "\n",
        "该链接即为您可以访问的公网地址。\n",
        "\n",
        "> 注意：如果在安装包时提示需要重启，请选择 \"否\"。"
      ]
    },
    {
      "cell_type": "markdown",
      "metadata": {
        "id": "fvzfP6Tn8nOL"
      },
      "source": [
        "## 环境部署"
      ]
    },
    {
      "cell_type": "code",
      "execution_count": 1,
      "metadata": {
        "id": "09UPJy1gP045"
      },
      "outputs": [],
      "source": [
        "%%capture\n",
        "# Skip restarting message in Colab\n",
        "import sys; modules = list(sys.modules.keys())\n",
        "for x in modules: sys.modules.pop(x) if \"PIL\" in x or \"google\" in x else None\n",
        "\n",
        "# 1. Clone the repository\n",
        "!git clone https://github.com/lenML/Speech-AI-Forge\n",
        "\n",
        "# 2. Change directory to the repository\n",
        "%cd Speech-AI-Forge\n",
        "\n",
        "# 3. Install ffmpeg and rubberband-cli\n",
        "!apt-get update -y\n",
        "!apt-get install -y ffmpeg rubberband-cli\n",
        "\n",
        "# 4. Install dependencies\n",
        "%pip install -r requirements.txt"
      ]
    },
    {
      "cell_type": "markdown",
      "metadata": {
        "id": "hLupWhOXT1kt"
      },
      "source": [
        "## 下载模型"
      ]
    },
    {
      "cell_type": "code",
      "execution_count": null,
      "metadata": {
        "cellView": "form",
        "id": "gZBGws7c8nON"
      },
      "outputs": [],
      "source": [
        "import os\n",
        "\n",
        "from scripts import dl_chattts, dl_enhance\n",
        "from scripts.downloader import (\n",
        "    fish_speech_1_4,\n",
        "    cosyvoice2,\n",
        "    fire_red_tts,\n",
        "    vocos_mel_24khz,\n",
        "    faster_whisper,\n",
        "    open_voice,\n",
        "    f5_tts_v1,\n",
        "    index_tts,\n",
        "    spark_tts,\n",
        ")\n",
        "\n",
        "# @markdown ## 模型下载说明\n",
        "# @markdown 大部分模型的大小接近 2GB，请确保有足够的存储空间和网络带宽。  <br/>\n",
        "# @markdown **注意**：至少必须选择一个 TTS 模型。如果没有选择，将默认下载 `CosyVoice` 。\n",
        "\n",
        "# @markdown ### Hugging Face Token (可选)\n",
        "# @markdown 部分模型可能需要配置 Hugging Face Token 才能下载。 如果您需要使用这些模型,请在此处输入您的 Token。您可以从 [Hugging Face](https://huggingface.co/settings/tokens) 获取您的 Token.\n",
        "HF_TOKEN = \"\"  # @param {type:\"string\"}\n",
        "\n",
        "if HF_TOKEN:\n",
        "    os.environ[\"HF_TOKEN\"] = HF_TOKEN  # 设置 \"HF_TOKEN\" 环境变量\n",
        "    print(\"HF_TOKEN 环境变量已配置。\")  # Helpful feedback\n",
        "else:\n",
        "    print(\"未提供 HF_TOKEN, 跳过环境变量配置.\")  # Good to know why\n",
        "\n",
        "# @markdown ### TTS 模型\n",
        "# @markdown CosyVoice: [GitHub](https://github.com/FunAudioLLM/CosyVoice) - Multi-lingual large voice generation model, providing inference, training and deployment full-stack ability.\n",
        "download_cosyvoice = True  # @param {\"type\":\"boolean\"}\n",
        "\n",
        "# @markdown FishSpeech: [GitHub](https://github.com/fishaudio/fish-speech) - Brand new TTS solution\n",
        "download_fish_speech = False  # @param {\"type\":\"boolean\"}\n",
        "\n",
        "# @markdown Index-TTS: [GitHub](https://github.com/index-tts/index-tts) - An Industrial-Level Controllable and Efficient Zero-Shot Text-To-Speech System\n",
        "download_index_tts = False  # @param {\"type\":\"boolean\"}\n",
        "\n",
        "# @markdown Spark-TTS: [GitHub](https://github.com/SparkAudio/Spark-TTS) - Spark-TTS Inference\n",
        "download_spark_tts = True  # @param {\"type\":\"boolean\"}\n",
        "\n",
        "# @markdown ChatTTS: [GitHub](https://github.com/2noise/ChatTTS) - A generative speech model for daily dialogue.\n",
        "download_chattts = True  # @param {\"type\":\"boolean\"}\n",
        "\n",
        "# @markdown F5-TTS: [GitHub](https://github.com/SWivid/F5-TTS) - A Fairytaler that Fakes Fluent and Faithful Speech with Flow Matching\n",
        "download_f5_tts = False  # @param {\"type\":\"boolean\"}\n",
        "\n",
        "# @markdown FireRedTTS: [GitHub](https://github.com/FireRedTeam/FireRedTTS) - An Open-Sourced LLM-empowered Foundation TTS System\n",
        "download_fire_red_tts = False  # @param {\"type\":\"boolean\"}\n",
        "\n",
        "# @markdown ### ASR 模型\n",
        "# @markdown Whisper: [GitHub](https://github.com/openai/whisper) - Robust Speech Recognition via Large-Scale Weak Supervision\n",
        "download_whisper = True  # @param {\"type\":\"boolean\"}\n",
        "\n",
        "# @markdown ### Clone Voice 模型\n",
        "# @markdown OpenVoice: [GitHub](https://github.com/myshell-ai/OpenVoice) - Instant voice cloning by MIT and MyShell.\n",
        "download_open_voice = True  # @param {\"type\":\"boolean\"}\n",
        "\n",
        "# @markdown ### 增强模型\n",
        "# @markdown resemble-enhance: [GitHub](https://github.com/resemble-ai/resemble-enhance) - AI powered speech denoising and enhancement\n",
        "download_enhancer = True  # @param {\"type\":\"boolean\"}\n",
        "\n",
        "\n",
        "# 检查是否至少选择了一个 TTS 模型\n",
        "if not any(\n",
        "    [\n",
        "        download_chattts,\n",
        "        download_fish_speech,\n",
        "        download_cosyvoice,\n",
        "        download_fire_red_tts,\n",
        "        download_f5_tts,\n",
        "        download_index_tts,\n",
        "        download_spark_tts,\n",
        "    ]\n",
        "):\n",
        "    print(\"未选择任何 TTS 模型，默认下载 CosyVoice...\")\n",
        "    download_cosyvoice = True\n",
        "\n",
        "dl_source = \"huggingface\"\n",
        "\n",
        "# TTS 模型下载\n",
        "if download_chattts:\n",
        "    print(\"下载 ChatTTS...\")\n",
        "    dl_chattts.ChatTTSDownloader()(source=dl_source)\n",
        "    print(\"下载 ChatTTS, 完成\")\n",
        "\n",
        "if download_fish_speech:\n",
        "    print(\"下载 FishSpeech...\")\n",
        "    fish_speech_1_4.FishSpeech14Downloader()(source=dl_source)\n",
        "    print(\"下载 FishSpeech, 完成\")\n",
        "\n",
        "if download_cosyvoice:\n",
        "    print(\"下载 CosyVoice...\")\n",
        "    cosyvoice2.CosyVoice2Downloader()(source=dl_source)\n",
        "    print(\"下载 CosyVoice, 完成\")\n",
        "\n",
        "if download_fire_red_tts:\n",
        "    print(\"下载 FireRedTTS...\")\n",
        "    fire_red_tts.FireRedTTSDownloader()(source=dl_source)\n",
        "    print(\"下载 FireRedTTS, 完成\")\n",
        "\n",
        "if download_f5_tts:\n",
        "    print(\"下载 F5TTS...\")\n",
        "    f5_tts_v1.F5TTSV1Downloader()(source=dl_source)\n",
        "    vocos_mel_24khz.VocosMel24khzDownloader()(source=dl_source)\n",
        "    print(\"下载 F5TTS, 完成\")\n",
        "\n",
        "if download_index_tts:\n",
        "    print(\"下载 IndexTTS...\")\n",
        "    index_tts.IndexTTSDownloader()(source=dl_source)\n",
        "    print(\"下载 IndexTTS, 完成\")\n",
        "\n",
        "if download_spark_tts:\n",
        "    print(\"下载 SparkTTS...\")\n",
        "    spark_tts.SparkTTSDownloader()(source=dl_source)\n",
        "    print(\"下载 SparkTTS, 完成\")\n",
        "\n",
        "# ASR 模型下载\n",
        "if download_whisper:\n",
        "    print(\"下载 Whisper...\")\n",
        "    faster_whisper.FasterWhisperDownloader()(source=dl_source)\n",
        "    print(\"下载 Whisper, 完成\")\n",
        "\n",
        "# Clone Voice 模型下载\n",
        "if download_open_voice:\n",
        "    print(\"下载 OpenVoice...\")\n",
        "    open_voice.OpenVoiceDownloader()(source=dl_source)\n",
        "    print(\"下载 OpenVoice, 完成\")\n",
        "\n",
        "# 增强模型下载\n",
        "if download_enhancer:\n",
        "    print(\"下载 ResembleEnhance...\")\n",
        "    dl_enhance.ResembleEnhanceDownloader()(source=dl_source)\n",
        "    print(\"下载 ResembleEnhance, 完成\")\n",
        "\n",
        "print(\"所有选定的模型已下载完成！\")"
      ]
    },
    {
      "cell_type": "markdown",
      "metadata": {
        "id": "RtpfdFem8nOO"
      },
      "source": [
        "## 运行 WebUI"
      ]
    },
    {
      "cell_type": "code",
      "execution_count": 3,
      "metadata": {
        "colab": {
          "base_uri": "https://localhost:8080/"
        },
        "id": "hi6eW_KLDc_p",
        "outputId": "45066dd4-1c2d-44ef-c6d3-4bfec7d56e65"
      },
      "outputs": [
        {
          "output_type": "stream",
          "name": "stdout",
          "text": [
            "nvcc: NVIDIA (R) Cuda compiler driver\n",
            "Copyright (c) 2005-2024 NVIDIA Corporation\n",
            "Built on Thu_Jun__6_02:18:23_PDT_2024\n",
            "Cuda compilation tools, release 12.5, V12.5.82\n",
            "Build cuda_12.5.r12.5/compiler.34385749_0\n"
          ]
        }
      ],
      "source": [
        "!nvcc --version"
      ]
    },
    {
      "cell_type": "code",
      "execution_count": 4,
      "metadata": {
        "colab": {
          "base_uri": "https://localhost:8080/"
        },
        "id": "J5CkIs0nFZKi",
        "outputId": "b581a70c-ba50-4fb8-90ec-1105e3854cb6"
      },
      "outputs": [
        {
          "output_type": "stream",
          "name": "stdout",
          "text": [
            "Wed Aug 13 02:17:39 2025       \n",
            "+-----------------------------------------------------------------------------------------+\n",
            "| NVIDIA-SMI 550.54.15              Driver Version: 550.54.15      CUDA Version: 12.4     |\n",
            "|-----------------------------------------+------------------------+----------------------+\n",
            "| GPU  Name                 Persistence-M | Bus-Id          Disp.A | Volatile Uncorr. ECC |\n",
            "| Fan  Temp   Perf          Pwr:Usage/Cap |           Memory-Usage | GPU-Util  Compute M. |\n",
            "|                                         |                        |               MIG M. |\n",
            "|=========================================+========================+======================|\n",
            "|   0  Tesla T4                       Off |   00000000:00:04.0 Off |                    0 |\n",
            "| N/A   39C    P8              9W /   70W |       0MiB /  15360MiB |      0%      Default |\n",
            "|                                         |                        |                  N/A |\n",
            "+-----------------------------------------+------------------------+----------------------+\n",
            "                                                                                         \n",
            "+-----------------------------------------------------------------------------------------+\n",
            "| Processes:                                                                              |\n",
            "|  GPU   GI   CI        PID   Type   Process name                              GPU Memory |\n",
            "|        ID   ID                                                               Usage      |\n",
            "|=========================================================================================|\n",
            "|  No running processes found                                                             |\n",
            "+-----------------------------------------------------------------------------------------+\n"
          ]
        }
      ],
      "source": [
        "!nvidia-smi"
      ]
    },
    {
      "cell_type": "code",
      "execution_count": null,
      "metadata": {
        "colab": {
          "base_uri": "https://localhost:8080/"
        },
        "id": "X8x_dWk88nOO",
        "outputId": "00732c47-9a69-4b7b-dc8f-551cb6b42e1d"
      },
      "outputs": [
        {
          "output_type": "stream",
          "name": "stdout",
          "text": [
            "2025-08-13 02:17:46,095 - numexpr.utils - INFO - NumExpr defaulting to 2 threads.\n",
            "2025-08-13 02:17:54,024 - root - INFO - new registry table has been added: preprocessor_classes\n",
            "2025-08-13 02:17:55,273 - root - INFO - new registry table has been added: adaptor_classes\n",
            "2025-08-13 02:17:57,755 - root - INFO - new registry table has been added: lid_predictor_classes\n",
            "2025-08-13 02:18:03.577152: E external/local_xla/xla/stream_executor/cuda/cuda_fft.cc:467] Unable to register cuFFT factory: Attempting to register factory for plugin cuFFT when one has already been registered\n",
            "WARNING: All log messages before absl::InitializeLog() is called are written to STDERR\n",
            "E0000 00:00:1755051483.854821    5830 cuda_dnn.cc:8579] Unable to register cuDNN factory: Attempting to register factory for plugin cuDNN when one has already been registered\n",
            "E0000 00:00:1755051483.933838    5830 cuda_blas.cc:1407] Unable to register cuBLAS factory: Attempting to register factory for plugin cuBLAS when one has already been registered\n",
            "W0000 00:00:1755051484.503168    5830 computation_placer.cc:177] computation placer already registered. Please check linkage and avoid linking the same target more than once.\n",
            "W0000 00:00:1755051484.503217    5830 computation_placer.cc:177] computation placer already registered. Please check linkage and avoid linking the same target more than once.\n",
            "W0000 00:00:1755051484.503224    5830 computation_placer.cc:177] computation placer already registered. Please check linkage and avoid linking the same target more than once.\n",
            "W0000 00:00:1755051484.503228    5830 computation_placer.cc:177] computation placer already registered. Please check linkage and avoid linking the same target more than once.\n",
            "2025-08-13 02:18:04.553971: I tensorflow/core/platform/cpu_feature_guard.cc:210] This TensorFlow binary is optimized to use available CPU instructions in performance-critical operations.\n",
            "To enable the following instructions: AVX2 AVX512F FMA, in other operations, rebuild TensorFlow with the appropriate compiler flags.\n",
            "2025-08-13 02:18:13,232 - datasets - INFO - PyTorch version 2.3.1+cu121 available.\n",
            "2025-08-13 02:18:13,234 - datasets - INFO - Polars version 1.25.2 available.\n",
            "2025-08-13 02:18:13,235 - datasets - INFO - TensorFlow version 2.19.0 available.\n",
            "2025-08-13 02:18:13,236 - datasets - INFO - JAX version 0.5.3 available.\n",
            "2025-08-13 02:18:15,476 - httpx - INFO - HTTP Request: GET https://api.gradio.app/gradio-messaging/en \"HTTP/1.1 200 OK\"\n",
            "2025-08-13 02:18:18,723 - modules.core.models.tts.CosyVoiceModel - INFO - Found CosyVoice model: [PosixPath('models/CosyVoice2-0.5B')]\n",
            "error: XDG_RUNTIME_DIR not set in the environment.\n",
            "ALSA lib confmisc.c:855:(parse_card) cannot find card '0'\n",
            "ALSA lib conf.c:5178:(_snd_config_evaluate) function snd_func_card_inum returned error: No such file or directory\n",
            "ALSA lib confmisc.c:422:(snd_func_concat) error evaluating strings\n",
            "ALSA lib conf.c:5178:(_snd_config_evaluate) function snd_func_concat returned error: No such file or directory\n",
            "ALSA lib confmisc.c:1334:(snd_func_refer) error evaluating name\n",
            "ALSA lib conf.c:5178:(_snd_config_evaluate) function snd_func_refer returned error: No such file or directory\n",
            "ALSA lib conf.c:5701:(snd_config_expand) Evaluate error: No such file or directory\n",
            "ALSA lib pcm.c:2664:(snd_pcm_open_noupdate) Unknown PCM default\n",
            "ALSA lib confmisc.c:855:(parse_card) cannot find card '0'\n",
            "ALSA lib conf.c:5178:(_snd_config_evaluate) function snd_func_card_inum returned error: No such file or directory\n",
            "ALSA lib confmisc.c:422:(snd_func_concat) error evaluating strings\n",
            "ALSA lib conf.c:5178:(_snd_config_evaluate) function snd_func_concat returned error: No such file or directory\n",
            "ALSA lib confmisc.c:1334:(snd_func_refer) error evaluating name\n",
            "ALSA lib conf.c:5178:(_snd_config_evaluate) function snd_func_refer returned error: No such file or directory\n",
            "ALSA lib conf.c:5701:(snd_config_expand) Evaluate error: No such file or directory\n",
            "ALSA lib pcm.c:2664:(snd_pcm_open_noupdate) Unknown PCM default\n",
            "2025-08-13 02:18:19,816 - modules.devices.devices - INFO - Using half precision: torch.float16\n",
            "2025-08-13 02:18:19,816 - modules.devices.devices - INFO - Using device: cuda\n",
            "2025-08-13 02:18:19,816 - modules.webui.app - INFO - WebUI module initialized\n",
            "2025-08-13 02:18:19,817 - modules.webui.localization - INFO - Loaded localization file /content/Speech-AI-Forge/language/zh-CN.json\n",
            "2025-08-13 02:18:20,191 - httpx - INFO - HTTP Request: GET https://api.gradio.app/pkg-version \"HTTP/1.1 200 OK\"\n",
            "2025-08-13 02:18:20,366 - httpx - INFO - HTTP Request: GET https://checkip.amazonaws.com/ \"HTTP/1.1 200 \"\n",
            "Running on local URL:  http://0.0.0.0:7860\n",
            "2025-08-13 02:18:22,356 - httpx - INFO - HTTP Request: GET http://localhost:7860/startup-events \"HTTP/1.1 200 OK\"\n",
            "2025-08-13 02:18:22,424 - httpx - INFO - HTTP Request: HEAD http://localhost:7860/ \"HTTP/1.1 200 OK\"\n",
            "2025-08-13 02:18:22,617 - httpx - INFO - HTTP Request: GET https://api.gradio.app/v2/tunnel-request \"HTTP/1.1 200 OK\"\n",
            "2025-08-13 02:18:22,735 - httpx - INFO - HTTP Request: GET https://cdn-media.huggingface.co/frpc-gradio-0.2/frpc_linux_amd64 \"HTTP/1.1 200 OK\"\n",
            "Running on public URL: https://b19fad17f63ab42df3.gradio.live\n",
            "\n",
            "This share link expires in 72 hours. For free permanent hosting and GPU upgrades, run `gradio deploy` from Terminal to deploy to Spaces (https://huggingface.co/spaces)\n"
          ]
        }
      ],
      "source": [
        "!python webui.py --share --language=zh-CN"
      ]
    }
  ],
  "metadata": {
    "accelerator": "GPU",
    "colab": {
      "gpuType": "T4",
      "provenance": []
    },
    "kernelspec": {
      "display_name": "Python 3",
      "name": "python3"
    },
    "language_info": {
      "name": "python"
    }
  },
  "nbformat": 4,
  "nbformat_minor": 0
}